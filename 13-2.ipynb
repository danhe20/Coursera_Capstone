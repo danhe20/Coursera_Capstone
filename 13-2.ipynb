{
 "cells": [
  {
   "cell_type": "markdown",
   "metadata": {},
   "source": [
    "# Backgrounds of the business problem\n",
    "This project aims to find a safe and convenient place to open businesses in Vancouver, Canada. This study will explicitly concentrate on stakeholders involved in opening any business location such as the Grocery Store in Vancouver City, Canada. \n",
    "The first task will be to pick the safest municipality by evaluating crime data for opening a supermarket and listing a community where food stores are not among the most conveniential locations but as close as possible to the city. \n",
    "***\n",
    "We'll use our data analysis software to analyse data and concentrate on the safeest community and explore its communities and the top 10 locations in each area so that you can pick the best area in which grocery stores are not among the most popular areas.\n",
    "***\n",
    "# Data description\n",
    "Based on our problem definition, the factors affecting our decision are: \n",
    "***\n",
    "* Find the safest district based on statistics on crime \n",
    "* Find the most common locations \n",
    "* Choose the right district within the district\n",
    "***\n",
    "We will use Vancouver's geographic co-ordinates to plot districts in a safe, city-friendly district and then cluster our districts and present our findings. \n",
    "To extract/generate the required information, following data sources are required: \n",
    "***\n",
    "Part 1: Using a Kaggle Real World Crimes Set from 2003 to 2019: a dataset consisting of the crime statistics for each neighbourhood in Vancouver and type of crime, recorded year, month and hour. \n",
    "***\n",
    "Part 2: The compilation of additional information from Wikipedia on the list of officially classified districts in Vancouver.: District information will be used to map the current data where every district is allocated the correct district. \n",
    "***\n",
    "Part 3: Creating a new, consolidated neighbourhood data set along with its towns, criminal data and correspondence co-ordinates.: Using OpenCage Geocoder, these data will be collected to find the safest town and explore the neighbourhood by tracking it on Folium-based maps and conducting exploratory data analysis. \n",
    "***\n",
    "Part 4: Creation and co-ordination of a new consolidated data set for neighbourhoods, municipalities and major places and the respective neighbourhood.: This data is collected using the Four Square API to explore the neighbourhood places and to use the machine study algorithm to cluster neighbourhoods and present their findings on maps using Folium.\n"
   ]
  },
  {
   "cell_type": "code",
   "execution_count": null,
   "metadata": {},
   "outputs": [],
   "source": []
  }
 ],
 "metadata": {
  "kernelspec": {
   "display_name": "Python 3",
   "language": "python",
   "name": "python3"
  },
  "language_info": {
   "codemirror_mode": {
    "name": "ipython",
    "version": 3
   },
   "file_extension": ".py",
   "mimetype": "text/x-python",
   "name": "python",
   "nbconvert_exporter": "python",
   "pygments_lexer": "ipython3",
   "version": "3.7.6"
  }
 },
 "nbformat": 4,
 "nbformat_minor": 4
}
