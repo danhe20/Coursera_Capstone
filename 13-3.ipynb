{
 "cells": [
  {
   "cell_type": "markdown",
   "metadata": {},
   "source": [
    "# Backgrounds of the business problem\n",
    "This project aims to find a safe and convenient place to open businesses in Vancouver, Canada. This study will explicitly concentrate on stakeholders involved in opening any business location such as the Grocery Store in Vancouver City, Canada. \n",
    "The first task will be to pick the safest municipality by evaluating crime data for opening a supermarket and listing a community where food stores are not among the most conveniential locations but as close as possible to the city. \n",
    "***\n",
    "We'll use our data analysis software to analyse data and concentrate on the safeest community and explore its communities and the top 10 locations in each area so that you can pick the best area in which grocery stores are not among the most popular areas.\n",
    "***\n",
    "\n"
   ]
  },
  {
   "cell_type": "code",
   "execution_count": null,
   "metadata": {},
   "outputs": [],
   "source": []
  }
 ],
 "metadata": {
  "kernelspec": {
   "display_name": "Python 3",
   "language": "python",
   "name": "python3"
  },
  "language_info": {
   "codemirror_mode": {
    "name": "ipython",
    "version": 3
   },
   "file_extension": ".py",
   "mimetype": "text/x-python",
   "name": "python",
   "nbconvert_exporter": "python",
   "pygments_lexer": "ipython3",
   "version": "3.7.6"
  }
 },
 "nbformat": 4,
 "nbformat_minor": 4
}
